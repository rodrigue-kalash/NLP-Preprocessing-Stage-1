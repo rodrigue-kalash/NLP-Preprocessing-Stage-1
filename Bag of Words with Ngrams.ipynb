{
  "nbformat": 4,
  "nbformat_minor": 0,
  "metadata": {
    "colab": {
      "name": "Tokenization-Stemming-Lemmatization-Bag of Word Steps of NLP.ipynb",
      "provenance": [],
      "collapsed_sections": []
    },
    "kernelspec": {
      "name": "python3",
      "display_name": "Python 3"
    },
    "language_info": {
      "name": "python"
    }
  },
  "cells": [
    {
      "cell_type": "code",
      "execution_count": 25,
      "metadata": {
        "colab": {
          "base_uri": "https://localhost:8080/"
        },
        "id": "CsyzTi1cb71S",
        "outputId": "ad374b6b-af21-47c0-bbfc-99329caef380"
      },
      "outputs": [
        {
          "output_type": "stream",
          "name": "stdout",
          "text": [
            "Looking in indexes: https://pypi.org/simple, https://us-python.pkg.dev/colab-wheels/public/simple/\n",
            "Requirement already satisfied: nltk in /usr/local/lib/python3.7/dist-packages (3.7)\n",
            "Requirement already satisfied: click in /usr/local/lib/python3.7/dist-packages (from nltk) (7.1.2)\n",
            "Requirement already satisfied: joblib in /usr/local/lib/python3.7/dist-packages (from nltk) (1.1.0)\n",
            "Requirement already satisfied: regex>=2021.8.3 in /usr/local/lib/python3.7/dist-packages (from nltk) (2022.6.2)\n",
            "Requirement already satisfied: tqdm in /usr/local/lib/python3.7/dist-packages (from nltk) (4.64.0)\n"
          ]
        }
      ],
      "source": [
        "!pip install nltk"
      ]
    },
    {
      "cell_type": "code",
      "source": [
        "p = \"The development of a vaccine to fight against SARS-CoV-2 is exciting news, but few of us understand what this means, beyond understanding it’s a possible barrier against COVID-19. How are vaccines developed and how do they work? Will all of the COVID vaccines be the same? How will we know if the vaccine is safe and effective? How often will we need to be vaccinated? Will there be enough vaccine for everyone? Dr. Deborah Fuller, vaccinologist and professor of microbiology at the University of Washington, will discuss the answers to these questions and more. Dr. Fuller’s lab has been the site of development of a vaccine candidate since January 2020.\""
      ],
      "metadata": {
        "id": "_uTUWv4Fc-3i"
      },
      "execution_count": 26,
      "outputs": []
    },
    {
      "cell_type": "code",
      "source": [
        "p"
      ],
      "metadata": {
        "colab": {
          "base_uri": "https://localhost:8080/",
          "height": 105
        },
        "id": "Yx0rkR33dBQ6",
        "outputId": "0ba3c054-8b84-45ba-b2a6-3b68249ca9e9"
      },
      "execution_count": 27,
      "outputs": [
        {
          "output_type": "execute_result",
          "data": {
            "text/plain": [
              "'The development of a vaccine to fight against SARS-CoV-2 is exciting news, but few of us understand what this means, beyond understanding it’s a possible barrier against COVID-19. How are vaccines developed and how do they work? Will all of the COVID vaccines be the same? How will we know if the vaccine is safe and effective? How often will we need to be vaccinated? Will there be enough vaccine for everyone? Dr. Deborah Fuller, vaccinologist and professor of microbiology at the University of Washington, will discuss the answers to these questions and more. Dr. Fuller’s lab has been the site of development of a vaccine candidate since January 2020.'"
            ],
            "application/vnd.google.colaboratory.intrinsic+json": {
              "type": "string"
            }
          },
          "metadata": {},
          "execution_count": 27
        }
      ]
    },
    {
      "cell_type": "markdown",
      "source": [
        "# PREPROCESSING"
      ],
      "metadata": {
        "id": "id9W60_1dUfQ"
      }
    },
    {
      "cell_type": "code",
      "source": [
        "import nltk\n",
        "from nltk.stem import PorterStemmer\n",
        "from nltk.stem import WordNetLemmatizer\n",
        "from nltk.corpus import stopwords"
      ],
      "metadata": {
        "id": "mRqEGj_0dDn1"
      },
      "execution_count": 28,
      "outputs": []
    },
    {
      "cell_type": "markdown",
      "source": [
        "#### Step 1- Tokenization: paragraph --> sentences -->  words"
      ],
      "metadata": {
        "id": "NnTzHYXKdYUa"
      }
    },
    {
      "cell_type": "code",
      "source": [
        "nltk.download('punkt')\n",
        "nltk.download('stopwords')\n",
        "nltk.download('wordnet')\n",
        "nltk.download('omw-1.4')"
      ],
      "metadata": {
        "colab": {
          "base_uri": "https://localhost:8080/"
        },
        "id": "X27rjp1qdQlZ",
        "outputId": "54ae57ef-e7a1-4d12-e58d-67f47626cdd9"
      },
      "execution_count": 29,
      "outputs": [
        {
          "output_type": "stream",
          "name": "stderr",
          "text": [
            "[nltk_data] Downloading package punkt to /root/nltk_data...\n",
            "[nltk_data]   Package punkt is already up-to-date!\n",
            "[nltk_data] Downloading package stopwords to /root/nltk_data...\n",
            "[nltk_data]   Package stopwords is already up-to-date!\n",
            "[nltk_data] Downloading package wordnet to /root/nltk_data...\n",
            "[nltk_data]   Package wordnet is already up-to-date!\n",
            "[nltk_data] Downloading package omw-1.4 to /root/nltk_data...\n",
            "[nltk_data]   Package omw-1.4 is already up-to-date!\n"
          ]
        },
        {
          "output_type": "execute_result",
          "data": {
            "text/plain": [
              "True"
            ]
          },
          "metadata": {},
          "execution_count": 29
        }
      ]
    },
    {
      "cell_type": "code",
      "source": [
        "s = nltk.sent_tokenize(p)"
      ],
      "metadata": {
        "id": "i8iCDFAQd1Zv"
      },
      "execution_count": 30,
      "outputs": []
    },
    {
      "cell_type": "code",
      "source": [
        "print(s)"
      ],
      "metadata": {
        "colab": {
          "base_uri": "https://localhost:8080/"
        },
        "id": "tmXDytbqd6-j",
        "outputId": "e1ca5051-7906-411b-fdfd-f1953d8f4b48"
      },
      "execution_count": 31,
      "outputs": [
        {
          "output_type": "stream",
          "name": "stdout",
          "text": [
            "['The development of a vaccine to fight against SARS-CoV-2 is exciting news, but few of us understand what this means, beyond understanding it’s a possible barrier against COVID-19.', 'How are vaccines developed and how do they work?', 'Will all of the COVID vaccines be the same?', 'How will we know if the vaccine is safe and effective?', 'How often will we need to be vaccinated?', 'Will there be enough vaccine for everyone?', 'Dr. Deborah Fuller, vaccinologist and professor of microbiology at the University of Washington, will discuss the answers to these questions and more.', 'Dr. Fuller’s lab has been the site of development of a vaccine candidate since January 2020.']\n"
          ]
        }
      ]
    },
    {
      "cell_type": "code",
      "source": [
        "print(len(s)) # 8 sentences in the pragraph p"
      ],
      "metadata": {
        "colab": {
          "base_uri": "https://localhost:8080/"
        },
        "id": "4xtK797KeG4K",
        "outputId": "3fb84fc9-c60b-4f43-e0f7-9718ce72a7f6"
      },
      "execution_count": 32,
      "outputs": [
        {
          "output_type": "stream",
          "name": "stdout",
          "text": [
            "8\n"
          ]
        }
      ]
    },
    {
      "cell_type": "code",
      "source": [
        "stemmer = PorterStemmer()\n",
        "lematizer = WordNetLemmatizer()"
      ],
      "metadata": {
        "id": "6fQsVbmMLDYS"
      },
      "execution_count": 33,
      "outputs": []
    },
    {
      "cell_type": "markdown",
      "source": [
        "**Cleaning The Paragraph using Regex**"
      ],
      "metadata": {
        "id": "Gb6-hU8Mk4c5"
      }
    },
    {
      "cell_type": "code",
      "source": [
        "## Most Important Code \n",
        "\n",
        "import re\n",
        "corpus=[]\n",
        "\n",
        "for i in range(len(s)):\n",
        "  text = re.sub('[^a-zA-Z]', ' ',s[i])    \n",
        "  text = text.lower()\n",
        "  text = text.split()\n",
        "  text = [lematizer.lemmatize(word) for word in text if word not in set(stopwords.words(\"english\"))]\n",
        "  text = \" \".join(text)\n",
        "  corpus.append(text)\n",
        "    "
      ],
      "metadata": {
        "id": "kPRTZO66lGk_"
      },
      "execution_count": 34,
      "outputs": []
    },
    {
      "cell_type": "code",
      "source": [
        "corpus"
      ],
      "metadata": {
        "colab": {
          "base_uri": "https://localhost:8080/"
        },
        "id": "XsUEZQ0xqDQn",
        "outputId": "194d2fb0-9ec7-48bc-cc58-205ebcc3e35e"
      },
      "execution_count": 35,
      "outputs": [
        {
          "output_type": "execute_result",
          "data": {
            "text/plain": [
              "['development vaccine fight sars cov exciting news u understand mean beyond understanding possible barrier covid',\n",
              " 'vaccine developed work',\n",
              " 'covid vaccine',\n",
              " 'know vaccine safe effective',\n",
              " 'often need vaccinated',\n",
              " 'enough vaccine everyone',\n",
              " 'dr deborah fuller vaccinologist professor microbiology university washington discus answer question',\n",
              " 'dr fuller lab site development vaccine candidate since january']"
            ]
          },
          "metadata": {},
          "execution_count": 35
        }
      ]
    },
    {
      "cell_type": "code",
      "source": [
        "corpus_copy = corpus.copy()"
      ],
      "metadata": {
        "id": "1e83mVu0Ovtq"
      },
      "execution_count": 36,
      "outputs": []
    },
    {
      "cell_type": "markdown",
      "source": [
        "#### Step 2 - Stemming and Lemmatization"
      ],
      "metadata": {
        "id": "ep7_8Pg0eUB1"
      }
    },
    {
      "cell_type": "code",
      "source": [
        "\n",
        "print(\"Stemming: \", stemmer.stem(\"history\"))\n",
        "print(\"Lemmatizer: \" , lematizer.lemmatize(\"history\"))"
      ],
      "metadata": {
        "colab": {
          "base_uri": "https://localhost:8080/"
        },
        "id": "puCD-8G8eSht",
        "outputId": "b3b22839-06b8-48ab-a4ea-b099308aad9f"
      },
      "execution_count": 37,
      "outputs": [
        {
          "output_type": "stream",
          "name": "stdout",
          "text": [
            "Stemming:  histori\n",
            "Lemmatizer:  history\n"
          ]
        }
      ]
    },
    {
      "cell_type": "markdown",
      "source": [
        "**Appling Stemming and Lemmatization on corpus**"
      ],
      "metadata": {
        "id": "XIjCp1JzrJvU"
      }
    },
    {
      "cell_type": "code",
      "source": [
        "for i in range(len(corpus)):\n",
        "  print(corpus[i])"
      ],
      "metadata": {
        "colab": {
          "base_uri": "https://localhost:8080/"
        },
        "id": "gBI3b-S5rFK7",
        "outputId": "24dd59af-6e29-438b-b8f8-d14fb653fc6b"
      },
      "execution_count": 38,
      "outputs": [
        {
          "output_type": "stream",
          "name": "stdout",
          "text": [
            "development vaccine fight sars cov exciting news u understand mean beyond understanding possible barrier covid\n",
            "vaccine developed work\n",
            "covid vaccine\n",
            "know vaccine safe effective\n",
            "often need vaccinated\n",
            "enough vaccine everyone\n",
            "dr deborah fuller vaccinologist professor microbiology university washington discus answer question\n",
            "dr fuller lab site development vaccine candidate since january\n"
          ]
        }
      ]
    },
    {
      "cell_type": "code",
      "source": [
        ""
      ],
      "metadata": {
        "id": "SgS0ETtmszep"
      },
      "execution_count": 38,
      "outputs": []
    },
    {
      "cell_type": "code",
      "source": [
        "stopwords.words(\"english\")"
      ],
      "metadata": {
        "colab": {
          "base_uri": "https://localhost:8080/"
        },
        "id": "m9dbU17htNxS",
        "outputId": "80227df2-6993-48be-c155-0d2e52b14e66"
      },
      "execution_count": 39,
      "outputs": [
        {
          "output_type": "execute_result",
          "data": {
            "text/plain": [
              "['i',\n",
              " 'me',\n",
              " 'my',\n",
              " 'myself',\n",
              " 'we',\n",
              " 'our',\n",
              " 'ours',\n",
              " 'ourselves',\n",
              " 'you',\n",
              " \"you're\",\n",
              " \"you've\",\n",
              " \"you'll\",\n",
              " \"you'd\",\n",
              " 'your',\n",
              " 'yours',\n",
              " 'yourself',\n",
              " 'yourselves',\n",
              " 'he',\n",
              " 'him',\n",
              " 'his',\n",
              " 'himself',\n",
              " 'she',\n",
              " \"she's\",\n",
              " 'her',\n",
              " 'hers',\n",
              " 'herself',\n",
              " 'it',\n",
              " \"it's\",\n",
              " 'its',\n",
              " 'itself',\n",
              " 'they',\n",
              " 'them',\n",
              " 'their',\n",
              " 'theirs',\n",
              " 'themselves',\n",
              " 'what',\n",
              " 'which',\n",
              " 'who',\n",
              " 'whom',\n",
              " 'this',\n",
              " 'that',\n",
              " \"that'll\",\n",
              " 'these',\n",
              " 'those',\n",
              " 'am',\n",
              " 'is',\n",
              " 'are',\n",
              " 'was',\n",
              " 'were',\n",
              " 'be',\n",
              " 'been',\n",
              " 'being',\n",
              " 'have',\n",
              " 'has',\n",
              " 'had',\n",
              " 'having',\n",
              " 'do',\n",
              " 'does',\n",
              " 'did',\n",
              " 'doing',\n",
              " 'a',\n",
              " 'an',\n",
              " 'the',\n",
              " 'and',\n",
              " 'but',\n",
              " 'if',\n",
              " 'or',\n",
              " 'because',\n",
              " 'as',\n",
              " 'until',\n",
              " 'while',\n",
              " 'of',\n",
              " 'at',\n",
              " 'by',\n",
              " 'for',\n",
              " 'with',\n",
              " 'about',\n",
              " 'against',\n",
              " 'between',\n",
              " 'into',\n",
              " 'through',\n",
              " 'during',\n",
              " 'before',\n",
              " 'after',\n",
              " 'above',\n",
              " 'below',\n",
              " 'to',\n",
              " 'from',\n",
              " 'up',\n",
              " 'down',\n",
              " 'in',\n",
              " 'out',\n",
              " 'on',\n",
              " 'off',\n",
              " 'over',\n",
              " 'under',\n",
              " 'again',\n",
              " 'further',\n",
              " 'then',\n",
              " 'once',\n",
              " 'here',\n",
              " 'there',\n",
              " 'when',\n",
              " 'where',\n",
              " 'why',\n",
              " 'how',\n",
              " 'all',\n",
              " 'any',\n",
              " 'both',\n",
              " 'each',\n",
              " 'few',\n",
              " 'more',\n",
              " 'most',\n",
              " 'other',\n",
              " 'some',\n",
              " 'such',\n",
              " 'no',\n",
              " 'nor',\n",
              " 'not',\n",
              " 'only',\n",
              " 'own',\n",
              " 'same',\n",
              " 'so',\n",
              " 'than',\n",
              " 'too',\n",
              " 'very',\n",
              " 's',\n",
              " 't',\n",
              " 'can',\n",
              " 'will',\n",
              " 'just',\n",
              " 'don',\n",
              " \"don't\",\n",
              " 'should',\n",
              " \"should've\",\n",
              " 'now',\n",
              " 'd',\n",
              " 'll',\n",
              " 'm',\n",
              " 'o',\n",
              " 're',\n",
              " 've',\n",
              " 'y',\n",
              " 'ain',\n",
              " 'aren',\n",
              " \"aren't\",\n",
              " 'couldn',\n",
              " \"couldn't\",\n",
              " 'didn',\n",
              " \"didn't\",\n",
              " 'doesn',\n",
              " \"doesn't\",\n",
              " 'hadn',\n",
              " \"hadn't\",\n",
              " 'hasn',\n",
              " \"hasn't\",\n",
              " 'haven',\n",
              " \"haven't\",\n",
              " 'isn',\n",
              " \"isn't\",\n",
              " 'ma',\n",
              " 'mightn',\n",
              " \"mightn't\",\n",
              " 'mustn',\n",
              " \"mustn't\",\n",
              " 'needn',\n",
              " \"needn't\",\n",
              " 'shan',\n",
              " \"shan't\",\n",
              " 'shouldn',\n",
              " \"shouldn't\",\n",
              " 'wasn',\n",
              " \"wasn't\",\n",
              " 'weren',\n",
              " \"weren't\",\n",
              " 'won',\n",
              " \"won't\",\n",
              " 'wouldn',\n",
              " \"wouldn't\"]"
            ]
          },
          "metadata": {},
          "execution_count": 39
        }
      ]
    },
    {
      "cell_type": "markdown",
      "source": [
        "**Applying Stemming**"
      ],
      "metadata": {
        "id": "K5gFOde2tZFo"
      }
    },
    {
      "cell_type": "code",
      "source": [
        "for s in corpus_copy:\n",
        "  words = nltk.word_tokenize(s)\n",
        "  for word in words:\n",
        "    if word not in set(stopwords.words('english')):\n",
        "      print(stemmer.stem(word))"
      ],
      "metadata": {
        "colab": {
          "base_uri": "https://localhost:8080/"
        },
        "id": "eAC9l4dAr65w",
        "outputId": "a20f4abf-5608-4d02-9078-7edba7ac255f"
      },
      "execution_count": 40,
      "outputs": [
        {
          "output_type": "stream",
          "name": "stdout",
          "text": [
            "develop\n",
            "vaccin\n",
            "fight\n",
            "sar\n",
            "cov\n",
            "excit\n",
            "news\n",
            "u\n",
            "understand\n",
            "mean\n",
            "beyond\n",
            "understand\n",
            "possibl\n",
            "barrier\n",
            "covid\n",
            "vaccin\n",
            "develop\n",
            "work\n",
            "covid\n",
            "vaccin\n",
            "know\n",
            "vaccin\n",
            "safe\n",
            "effect\n",
            "often\n",
            "need\n",
            "vaccin\n",
            "enough\n",
            "vaccin\n",
            "everyon\n",
            "dr\n",
            "deborah\n",
            "fuller\n",
            "vaccinologist\n",
            "professor\n",
            "microbiolog\n",
            "univers\n",
            "washington\n",
            "discu\n",
            "answer\n",
            "question\n",
            "dr\n",
            "fuller\n",
            "lab\n",
            "site\n",
            "develop\n",
            "vaccin\n",
            "candid\n",
            "sinc\n",
            "januari\n"
          ]
        }
      ]
    },
    {
      "cell_type": "markdown",
      "source": [
        "**Applying Lemmatization**"
      ],
      "metadata": {
        "id": "7St-MCiKtc4R"
      }
    },
    {
      "cell_type": "code",
      "source": [
        "c = []\n",
        "for s in corpus_copy:\n",
        "  words = nltk.word_tokenize(s)\n",
        "  for word in words:\n",
        "    if word not in set(stopwords.words(\"english\")):\n",
        "      c.append(word)\n",
        "      print(word)"
      ],
      "metadata": {
        "colab": {
          "base_uri": "https://localhost:8080/"
        },
        "id": "oS9UumotuFPU",
        "outputId": "bfdd30bc-2c30-49b1-e1ca-a497464d78e3"
      },
      "execution_count": 41,
      "outputs": [
        {
          "output_type": "stream",
          "name": "stdout",
          "text": [
            "development\n",
            "vaccine\n",
            "fight\n",
            "sars\n",
            "cov\n",
            "exciting\n",
            "news\n",
            "u\n",
            "understand\n",
            "mean\n",
            "beyond\n",
            "understanding\n",
            "possible\n",
            "barrier\n",
            "covid\n",
            "vaccine\n",
            "developed\n",
            "work\n",
            "covid\n",
            "vaccine\n",
            "know\n",
            "vaccine\n",
            "safe\n",
            "effective\n",
            "often\n",
            "need\n",
            "vaccinated\n",
            "enough\n",
            "vaccine\n",
            "everyone\n",
            "dr\n",
            "deborah\n",
            "fuller\n",
            "vaccinologist\n",
            "professor\n",
            "microbiology\n",
            "university\n",
            "washington\n",
            "discus\n",
            "answer\n",
            "question\n",
            "dr\n",
            "fuller\n",
            "lab\n",
            "site\n",
            "development\n",
            "vaccine\n",
            "candidate\n",
            "since\n",
            "january\n"
          ]
        }
      ]
    },
    {
      "cell_type": "code",
      "source": [
        "c[0]"
      ],
      "metadata": {
        "colab": {
          "base_uri": "https://localhost:8080/",
          "height": 35
        },
        "id": "v7VoL9Wx0ueU",
        "outputId": "5722bd25-b05d-4eda-dc1b-f779fefe804e"
      },
      "execution_count": 42,
      "outputs": [
        {
          "output_type": "execute_result",
          "data": {
            "text/plain": [
              "'development'"
            ],
            "application/vnd.google.colaboratory.intrinsic+json": {
              "type": "string"
            }
          },
          "metadata": {},
          "execution_count": 42
        }
      ]
    },
    {
      "cell_type": "markdown",
      "source": [
        "## Step 3: Bag of Words"
      ],
      "metadata": {
        "id": "6M_zqGakz-BX"
      }
    },
    {
      "cell_type": "code",
      "source": [
        "from sklearn.feature_extraction.text  import CountVectorizer\n",
        "countVect = CountVectorizer(binary=True)"
      ],
      "metadata": {
        "id": "BGgsYq2c0MHT"
      },
      "execution_count": 43,
      "outputs": []
    },
    {
      "cell_type": "code",
      "source": [
        "x = countVect.fit_transform(corpus)"
      ],
      "metadata": {
        "id": "I53SgjKt0ZSj"
      },
      "execution_count": 44,
      "outputs": []
    },
    {
      "cell_type": "code",
      "source": [
        "countVect.vocabulary_"
      ],
      "metadata": {
        "colab": {
          "base_uri": "https://localhost:8080/"
        },
        "id": "WNpGyiCz08Cx",
        "outputId": "74114cb5-e4bb-4f95-9200-471403efd1df"
      },
      "execution_count": 45,
      "outputs": [
        {
          "output_type": "execute_result",
          "data": {
            "text/plain": [
              "{'answer': 0,\n",
              " 'barrier': 1,\n",
              " 'beyond': 2,\n",
              " 'candidate': 3,\n",
              " 'cov': 4,\n",
              " 'covid': 5,\n",
              " 'deborah': 6,\n",
              " 'developed': 7,\n",
              " 'development': 8,\n",
              " 'discus': 9,\n",
              " 'dr': 10,\n",
              " 'effective': 11,\n",
              " 'enough': 12,\n",
              " 'everyone': 13,\n",
              " 'exciting': 14,\n",
              " 'fight': 15,\n",
              " 'fuller': 16,\n",
              " 'january': 17,\n",
              " 'know': 18,\n",
              " 'lab': 19,\n",
              " 'mean': 20,\n",
              " 'microbiology': 21,\n",
              " 'need': 22,\n",
              " 'news': 23,\n",
              " 'often': 24,\n",
              " 'possible': 25,\n",
              " 'professor': 26,\n",
              " 'question': 27,\n",
              " 'safe': 28,\n",
              " 'sars': 29,\n",
              " 'since': 30,\n",
              " 'site': 31,\n",
              " 'understand': 32,\n",
              " 'understanding': 33,\n",
              " 'university': 34,\n",
              " 'vaccinated': 35,\n",
              " 'vaccine': 36,\n",
              " 'vaccinologist': 37,\n",
              " 'washington': 38,\n",
              " 'work': 39}"
            ]
          },
          "metadata": {},
          "execution_count": 45
        }
      ]
    },
    {
      "cell_type": "code",
      "source": [
        "corpus[0]"
      ],
      "metadata": {
        "colab": {
          "base_uri": "https://localhost:8080/",
          "height": 35
        },
        "id": "C-JZ-ZKf1cde",
        "outputId": "ecdea09c-2947-40be-ba23-dfd79632c632"
      },
      "execution_count": 46,
      "outputs": [
        {
          "output_type": "execute_result",
          "data": {
            "text/plain": [
              "'development vaccine fight sars cov exciting news u understand mean beyond understanding possible barrier covid'"
            ],
            "application/vnd.google.colaboratory.intrinsic+json": {
              "type": "string"
            }
          },
          "metadata": {},
          "execution_count": 46
        }
      ]
    },
    {
      "cell_type": "code",
      "source": [
        "x[0].toarray()"
      ],
      "metadata": {
        "colab": {
          "base_uri": "https://localhost:8080/"
        },
        "id": "dP9dyyWI105W",
        "outputId": "7492aa56-9511-42ce-d595-72e526903201"
      },
      "execution_count": 47,
      "outputs": [
        {
          "output_type": "execute_result",
          "data": {
            "text/plain": [
              "array([[0, 1, 1, 0, 1, 1, 0, 0, 1, 0, 0, 0, 0, 0, 1, 1, 0, 0, 0, 0, 1, 0,\n",
              "        0, 1, 0, 1, 0, 0, 0, 1, 0, 0, 1, 1, 0, 0, 1, 0, 0, 0]])"
            ]
          },
          "metadata": {},
          "execution_count": 47
        }
      ]
    },
    {
      "cell_type": "markdown",
      "source": [
        "## Ngrams with Bag of Words "
      ],
      "metadata": {
        "id": "2P8r0vvSfevz"
      }
    },
    {
      "cell_type": "code",
      "source": [
        "countVect_3grams = CountVectorizer( binary=True, ngram_range=(2,3) )\n",
        "x_3grams = countVect_3grams.fit_transform(corpus)\n",
        "x_3grams[0].toarray()"
      ],
      "metadata": {
        "colab": {
          "base_uri": "https://localhost:8080/"
        },
        "id": "AqDcJWgEfeYl",
        "outputId": "6bd40770-3d45-4fa2-8a9c-38b9f2e60085"
      },
      "execution_count": 51,
      "outputs": [
        {
          "output_type": "execute_result",
          "data": {
            "text/plain": [
              "array([[0, 1, 1, 1, 0, 0, 1, 1, 0, 0, 0, 0, 1, 0, 1, 0, 0, 0, 0, 0, 0, 0,\n",
              "        0, 1, 1, 1, 1, 0, 0, 0, 0, 0, 0, 0, 0, 1, 1, 0, 0, 0, 1, 1, 0, 0,\n",
              "        1, 1, 0, 0, 0, 1, 1, 0, 0, 0, 1, 1, 1, 1, 0, 0, 0, 0, 0, 0, 0, 1,\n",
              "        1, 0, 0, 0, 0, 0, 0]])"
            ]
          },
          "metadata": {},
          "execution_count": 51
        }
      ]
    },
    {
      "cell_type": "code",
      "source": [
        "countVect_3grams.vocabulary_"
      ],
      "metadata": {
        "colab": {
          "base_uri": "https://localhost:8080/"
        },
        "id": "hsF9VOyRhq_0",
        "outputId": "145b2ffe-a19d-4a69-f007-031f8ca1a76e"
      },
      "execution_count": 52,
      "outputs": [
        {
          "output_type": "execute_result",
          "data": {
            "text/plain": [
              "{'answer question': 0,\n",
              " 'barrier covid': 1,\n",
              " 'beyond understanding': 2,\n",
              " 'beyond understanding possible': 3,\n",
              " 'candidate since': 4,\n",
              " 'candidate since january': 5,\n",
              " 'cov exciting': 6,\n",
              " 'cov exciting news': 7,\n",
              " 'covid vaccine': 8,\n",
              " 'deborah fuller': 9,\n",
              " 'deborah fuller vaccinologist': 10,\n",
              " 'developed work': 11,\n",
              " 'development vaccine': 12,\n",
              " 'development vaccine candidate': 13,\n",
              " 'development vaccine fight': 14,\n",
              " 'discus answer': 15,\n",
              " 'discus answer question': 16,\n",
              " 'dr deborah': 17,\n",
              " 'dr deborah fuller': 18,\n",
              " 'dr fuller': 19,\n",
              " 'dr fuller lab': 20,\n",
              " 'enough vaccine': 21,\n",
              " 'enough vaccine everyone': 22,\n",
              " 'exciting news': 23,\n",
              " 'exciting news understand': 24,\n",
              " 'fight sars': 25,\n",
              " 'fight sars cov': 26,\n",
              " 'fuller lab': 27,\n",
              " 'fuller lab site': 28,\n",
              " 'fuller vaccinologist': 29,\n",
              " 'fuller vaccinologist professor': 30,\n",
              " 'know vaccine': 31,\n",
              " 'know vaccine safe': 32,\n",
              " 'lab site': 33,\n",
              " 'lab site development': 34,\n",
              " 'mean beyond': 35,\n",
              " 'mean beyond understanding': 36,\n",
              " 'microbiology university': 37,\n",
              " 'microbiology university washington': 38,\n",
              " 'need vaccinated': 39,\n",
              " 'news understand': 40,\n",
              " 'news understand mean': 41,\n",
              " 'often need': 42,\n",
              " 'often need vaccinated': 43,\n",
              " 'possible barrier': 44,\n",
              " 'possible barrier covid': 45,\n",
              " 'professor microbiology': 46,\n",
              " 'professor microbiology university': 47,\n",
              " 'safe effective': 48,\n",
              " 'sars cov': 49,\n",
              " 'sars cov exciting': 50,\n",
              " 'since january': 51,\n",
              " 'site development': 52,\n",
              " 'site development vaccine': 53,\n",
              " 'understand mean': 54,\n",
              " 'understand mean beyond': 55,\n",
              " 'understanding possible': 56,\n",
              " 'understanding possible barrier': 57,\n",
              " 'university washington': 58,\n",
              " 'university washington discus': 59,\n",
              " 'vaccine candidate': 60,\n",
              " 'vaccine candidate since': 61,\n",
              " 'vaccine developed': 62,\n",
              " 'vaccine developed work': 63,\n",
              " 'vaccine everyone': 64,\n",
              " 'vaccine fight': 65,\n",
              " 'vaccine fight sars': 66,\n",
              " 'vaccine safe': 67,\n",
              " 'vaccine safe effective': 68,\n",
              " 'vaccinologist professor': 69,\n",
              " 'vaccinologist professor microbiology': 70,\n",
              " 'washington discus': 71,\n",
              " 'washington discus answer': 72}"
            ]
          },
          "metadata": {},
          "execution_count": 52
        }
      ]
    }
  ]
}