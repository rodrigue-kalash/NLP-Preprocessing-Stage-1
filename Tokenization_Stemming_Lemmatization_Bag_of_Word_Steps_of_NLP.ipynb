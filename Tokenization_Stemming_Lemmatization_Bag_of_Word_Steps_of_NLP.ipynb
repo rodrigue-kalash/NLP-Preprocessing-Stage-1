{
  "nbformat": 4,
  "nbformat_minor": 0,
  "metadata": {
    "colab": {
      "name": "Tokenization-Stemming-Lemmatization-Bag of Word Steps of NLP.ipynb",
      "provenance": []
    },
    "kernelspec": {
      "name": "python3",
      "display_name": "Python 3"
    },
    "language_info": {
      "name": "python"
    }
  },
  "cells": [
    {
      "cell_type": "code",
      "execution_count": 133,
      "metadata": {
        "colab": {
          "base_uri": "https://localhost:8080/"
        },
        "id": "CsyzTi1cb71S",
        "outputId": "768e7298-521a-46b0-ee0d-57bfd3a6c2cf"
      },
      "outputs": [
        {
          "output_type": "stream",
          "name": "stdout",
          "text": [
            "Looking in indexes: https://pypi.org/simple, https://us-python.pkg.dev/colab-wheels/public/simple/\n",
            "Requirement already satisfied: nltk in /usr/local/lib/python3.7/dist-packages (3.7)\n",
            "Requirement already satisfied: tqdm in /usr/local/lib/python3.7/dist-packages (from nltk) (4.64.0)\n",
            "Requirement already satisfied: joblib in /usr/local/lib/python3.7/dist-packages (from nltk) (1.1.0)\n",
            "Requirement already satisfied: click in /usr/local/lib/python3.7/dist-packages (from nltk) (7.1.2)\n",
            "Requirement already satisfied: regex>=2021.8.3 in /usr/local/lib/python3.7/dist-packages (from nltk) (2022.6.2)\n"
          ]
        }
      ],
      "source": [
        "!pip install nltk"
      ]
    },
    {
      "cell_type": "code",
      "source": [
        "p = \"The development of a vaccine to fight against SARS-CoV-2 is exciting news, but few of us understand what this means, beyond understanding it’s a possible barrier against COVID-19. How are vaccines developed and how do they work? Will all of the COVID vaccines be the same? How will we know if the vaccine is safe and effective? How often will we need to be vaccinated? Will there be enough vaccine for everyone? Dr. Deborah Fuller, vaccinologist and professor of microbiology at the University of Washington, will discuss the answers to these questions and more. Dr. Fuller’s lab has been the site of development of a vaccine candidate since January 2020.\""
      ],
      "metadata": {
        "id": "_uTUWv4Fc-3i"
      },
      "execution_count": 134,
      "outputs": []
    },
    {
      "cell_type": "code",
      "source": [
        "p"
      ],
      "metadata": {
        "colab": {
          "base_uri": "https://localhost:8080/",
          "height": 105
        },
        "id": "Yx0rkR33dBQ6",
        "outputId": "71ad70d0-b130-4357-96c0-69d6b0a6ea06"
      },
      "execution_count": 135,
      "outputs": [
        {
          "output_type": "execute_result",
          "data": {
            "text/plain": [
              "'The development of a vaccine to fight against SARS-CoV-2 is exciting news, but few of us understand what this means, beyond understanding it’s a possible barrier against COVID-19. How are vaccines developed and how do they work? Will all of the COVID vaccines be the same? How will we know if the vaccine is safe and effective? How often will we need to be vaccinated? Will there be enough vaccine for everyone? Dr. Deborah Fuller, vaccinologist and professor of microbiology at the University of Washington, will discuss the answers to these questions and more. Dr. Fuller’s lab has been the site of development of a vaccine candidate since January 2020.'"
            ],
            "application/vnd.google.colaboratory.intrinsic+json": {
              "type": "string"
            }
          },
          "metadata": {},
          "execution_count": 135
        }
      ]
    },
    {
      "cell_type": "markdown",
      "source": [
        "# PREPROCESSING"
      ],
      "metadata": {
        "id": "id9W60_1dUfQ"
      }
    },
    {
      "cell_type": "code",
      "source": [
        "import nltk\n",
        "from nltk.stem import PorterStemmer\n",
        "from nltk.stem import WordNetLemmatizer\n",
        "from nltk.corpus import stopwords"
      ],
      "metadata": {
        "id": "mRqEGj_0dDn1"
      },
      "execution_count": 136,
      "outputs": []
    },
    {
      "cell_type": "markdown",
      "source": [
        "#### Step 1- Tokenization: paragraph --> sentences -->  words"
      ],
      "metadata": {
        "id": "NnTzHYXKdYUa"
      }
    },
    {
      "cell_type": "code",
      "source": [
        "nltk.download('punkt')"
      ],
      "metadata": {
        "colab": {
          "base_uri": "https://localhost:8080/"
        },
        "id": "X27rjp1qdQlZ",
        "outputId": "2ca5a46f-fd94-4482-a426-4e4164f78fbf"
      },
      "execution_count": 137,
      "outputs": [
        {
          "output_type": "stream",
          "name": "stderr",
          "text": [
            "[nltk_data] Downloading package punkt to /root/nltk_data...\n",
            "[nltk_data]   Package punkt is already up-to-date!\n"
          ]
        },
        {
          "output_type": "execute_result",
          "data": {
            "text/plain": [
              "True"
            ]
          },
          "metadata": {},
          "execution_count": 137
        }
      ]
    },
    {
      "cell_type": "code",
      "source": [
        "s = nltk.sent_tokenize(p)"
      ],
      "metadata": {
        "id": "i8iCDFAQd1Zv"
      },
      "execution_count": 138,
      "outputs": []
    },
    {
      "cell_type": "code",
      "source": [
        "print(s)"
      ],
      "metadata": {
        "colab": {
          "base_uri": "https://localhost:8080/"
        },
        "id": "tmXDytbqd6-j",
        "outputId": "68d5e4e5-2993-46a5-bfff-54292d419e7d"
      },
      "execution_count": 139,
      "outputs": [
        {
          "output_type": "stream",
          "name": "stdout",
          "text": [
            "['The development of a vaccine to fight against SARS-CoV-2 is exciting news, but few of us understand what this means, beyond understanding it’s a possible barrier against COVID-19.', 'How are vaccines developed and how do they work?', 'Will all of the COVID vaccines be the same?', 'How will we know if the vaccine is safe and effective?', 'How often will we need to be vaccinated?', 'Will there be enough vaccine for everyone?', 'Dr. Deborah Fuller, vaccinologist and professor of microbiology at the University of Washington, will discuss the answers to these questions and more.', 'Dr. Fuller’s lab has been the site of development of a vaccine candidate since January 2020.']\n"
          ]
        }
      ]
    },
    {
      "cell_type": "code",
      "source": [
        "print(len(s)) # 8 sentences in the pragraph p"
      ],
      "metadata": {
        "colab": {
          "base_uri": "https://localhost:8080/"
        },
        "id": "4xtK797KeG4K",
        "outputId": "4cefeb06-55b5-46f2-f086-8f23333a6f97"
      },
      "execution_count": 140,
      "outputs": [
        {
          "output_type": "stream",
          "name": "stdout",
          "text": [
            "8\n"
          ]
        }
      ]
    },
    {
      "cell_type": "code",
      "source": [
        "stemmer = PorterStemmer()\n",
        "lematizer = WordNetLemmatizer()"
      ],
      "metadata": {
        "id": "6fQsVbmMLDYS"
      },
      "execution_count": 141,
      "outputs": []
    },
    {
      "cell_type": "markdown",
      "source": [
        "**Cleaning The Paragraph using Regex**"
      ],
      "metadata": {
        "id": "Gb6-hU8Mk4c5"
      }
    },
    {
      "cell_type": "code",
      "source": [
        "## Most Important Code \n",
        "\n",
        "import re\n",
        "corpus=[]\n",
        "\n",
        "for i in range(len(s)):\n",
        "  text = re.sub('[^a-zA-Z]', ' ',s[i])    \n",
        "  text = text.lower()\n",
        "  text = text.split()\n",
        "  text = [lematizer.lemmatize(word) for word in text if word not in set(stopwords.words(\"english\"))]\n",
        "  text = \" \".join(text)\n",
        "  corpus.append(text)\n",
        "    "
      ],
      "metadata": {
        "id": "kPRTZO66lGk_"
      },
      "execution_count": 142,
      "outputs": []
    },
    {
      "cell_type": "code",
      "source": [
        "corpus"
      ],
      "metadata": {
        "colab": {
          "base_uri": "https://localhost:8080/"
        },
        "id": "XsUEZQ0xqDQn",
        "outputId": "b61ad12c-5268-4a17-f26e-31c031ead935"
      },
      "execution_count": 143,
      "outputs": [
        {
          "output_type": "execute_result",
          "data": {
            "text/plain": [
              "['development vaccine fight sars cov exciting news u understand mean beyond understanding possible barrier covid',\n",
              " 'vaccine developed work',\n",
              " 'covid vaccine',\n",
              " 'know vaccine safe effective',\n",
              " 'often need vaccinated',\n",
              " 'enough vaccine everyone',\n",
              " 'dr deborah fuller vaccinologist professor microbiology university washington discus answer question',\n",
              " 'dr fuller lab site development vaccine candidate since january']"
            ]
          },
          "metadata": {},
          "execution_count": 143
        }
      ]
    },
    {
      "cell_type": "code",
      "source": [
        "corpus_copy = corpus.copy()"
      ],
      "metadata": {
        "id": "1e83mVu0Ovtq"
      },
      "execution_count": 144,
      "outputs": []
    },
    {
      "cell_type": "code",
      "source": [
        "nltk.download('wordnet')"
      ],
      "metadata": {
        "colab": {
          "base_uri": "https://localhost:8080/"
        },
        "id": "RzaehaG_f-L7",
        "outputId": "38ee7b50-02b9-4f06-928a-366aa15a8a1f"
      },
      "execution_count": 145,
      "outputs": [
        {
          "output_type": "stream",
          "name": "stderr",
          "text": [
            "[nltk_data] Downloading package wordnet to /root/nltk_data...\n",
            "[nltk_data]   Package wordnet is already up-to-date!\n"
          ]
        },
        {
          "output_type": "execute_result",
          "data": {
            "text/plain": [
              "True"
            ]
          },
          "metadata": {},
          "execution_count": 145
        }
      ]
    },
    {
      "cell_type": "code",
      "source": [
        "nltk.download('omw-1.4')"
      ],
      "metadata": {
        "colab": {
          "base_uri": "https://localhost:8080/"
        },
        "id": "Reem1J2kgVfk",
        "outputId": "4dc66b52-56f3-4018-b441-86f2c0ca1f38"
      },
      "execution_count": 146,
      "outputs": [
        {
          "output_type": "stream",
          "name": "stderr",
          "text": [
            "[nltk_data] Downloading package omw-1.4 to /root/nltk_data...\n",
            "[nltk_data]   Package omw-1.4 is already up-to-date!\n"
          ]
        },
        {
          "output_type": "execute_result",
          "data": {
            "text/plain": [
              "True"
            ]
          },
          "metadata": {},
          "execution_count": 146
        }
      ]
    },
    {
      "cell_type": "markdown",
      "source": [
        "#### Step 2 - Stemming and Lemmatization"
      ],
      "metadata": {
        "id": "ep7_8Pg0eUB1"
      }
    },
    {
      "cell_type": "code",
      "source": [
        "\n",
        "print(\"Stemming: \", stemmer.stem(\"history\"))\n",
        "print(\"Lemmatizer: \" , lematizer.lemmatize(\"history\"))"
      ],
      "metadata": {
        "colab": {
          "base_uri": "https://localhost:8080/"
        },
        "id": "puCD-8G8eSht",
        "outputId": "1b42813a-05c2-40d9-a916-a44c15d1de55"
      },
      "execution_count": 147,
      "outputs": [
        {
          "output_type": "stream",
          "name": "stdout",
          "text": [
            "Stemming:  histori\n",
            "Lemmatizer:  history\n"
          ]
        }
      ]
    },
    {
      "cell_type": "markdown",
      "source": [
        "**Appling Stemming and Lemmatization on corpus**"
      ],
      "metadata": {
        "id": "XIjCp1JzrJvU"
      }
    },
    {
      "cell_type": "code",
      "source": [
        "for i in range(len(corpus)):\n",
        "  print(corpus[i])"
      ],
      "metadata": {
        "colab": {
          "base_uri": "https://localhost:8080/"
        },
        "id": "gBI3b-S5rFK7",
        "outputId": "8457cc39-6847-4a38-8404-a52e0dcee4f2"
      },
      "execution_count": 148,
      "outputs": [
        {
          "output_type": "stream",
          "name": "stdout",
          "text": [
            "development vaccine fight sars cov exciting news u understand mean beyond understanding possible barrier covid\n",
            "vaccine developed work\n",
            "covid vaccine\n",
            "know vaccine safe effective\n",
            "often need vaccinated\n",
            "enough vaccine everyone\n",
            "dr deborah fuller vaccinologist professor microbiology university washington discus answer question\n",
            "dr fuller lab site development vaccine candidate since january\n"
          ]
        }
      ]
    },
    {
      "cell_type": "code",
      "source": [
        "nltk.download('stopwords')"
      ],
      "metadata": {
        "colab": {
          "base_uri": "https://localhost:8080/"
        },
        "id": "SgS0ETtmszep",
        "outputId": "cf81b8e3-6b82-4b0e-d27b-a804068d3fa4"
      },
      "execution_count": 149,
      "outputs": [
        {
          "output_type": "stream",
          "name": "stderr",
          "text": [
            "[nltk_data] Downloading package stopwords to /root/nltk_data...\n",
            "[nltk_data]   Package stopwords is already up-to-date!\n"
          ]
        },
        {
          "output_type": "execute_result",
          "data": {
            "text/plain": [
              "True"
            ]
          },
          "metadata": {},
          "execution_count": 149
        }
      ]
    },
    {
      "cell_type": "code",
      "source": [
        "stopwords.words(\"english\")"
      ],
      "metadata": {
        "colab": {
          "base_uri": "https://localhost:8080/"
        },
        "id": "m9dbU17htNxS",
        "outputId": "c293b42e-d117-4c91-c30b-f4779a093eb5"
      },
      "execution_count": 150,
      "outputs": [
        {
          "output_type": "execute_result",
          "data": {
            "text/plain": [
              "['i',\n",
              " 'me',\n",
              " 'my',\n",
              " 'myself',\n",
              " 'we',\n",
              " 'our',\n",
              " 'ours',\n",
              " 'ourselves',\n",
              " 'you',\n",
              " \"you're\",\n",
              " \"you've\",\n",
              " \"you'll\",\n",
              " \"you'd\",\n",
              " 'your',\n",
              " 'yours',\n",
              " 'yourself',\n",
              " 'yourselves',\n",
              " 'he',\n",
              " 'him',\n",
              " 'his',\n",
              " 'himself',\n",
              " 'she',\n",
              " \"she's\",\n",
              " 'her',\n",
              " 'hers',\n",
              " 'herself',\n",
              " 'it',\n",
              " \"it's\",\n",
              " 'its',\n",
              " 'itself',\n",
              " 'they',\n",
              " 'them',\n",
              " 'their',\n",
              " 'theirs',\n",
              " 'themselves',\n",
              " 'what',\n",
              " 'which',\n",
              " 'who',\n",
              " 'whom',\n",
              " 'this',\n",
              " 'that',\n",
              " \"that'll\",\n",
              " 'these',\n",
              " 'those',\n",
              " 'am',\n",
              " 'is',\n",
              " 'are',\n",
              " 'was',\n",
              " 'were',\n",
              " 'be',\n",
              " 'been',\n",
              " 'being',\n",
              " 'have',\n",
              " 'has',\n",
              " 'had',\n",
              " 'having',\n",
              " 'do',\n",
              " 'does',\n",
              " 'did',\n",
              " 'doing',\n",
              " 'a',\n",
              " 'an',\n",
              " 'the',\n",
              " 'and',\n",
              " 'but',\n",
              " 'if',\n",
              " 'or',\n",
              " 'because',\n",
              " 'as',\n",
              " 'until',\n",
              " 'while',\n",
              " 'of',\n",
              " 'at',\n",
              " 'by',\n",
              " 'for',\n",
              " 'with',\n",
              " 'about',\n",
              " 'against',\n",
              " 'between',\n",
              " 'into',\n",
              " 'through',\n",
              " 'during',\n",
              " 'before',\n",
              " 'after',\n",
              " 'above',\n",
              " 'below',\n",
              " 'to',\n",
              " 'from',\n",
              " 'up',\n",
              " 'down',\n",
              " 'in',\n",
              " 'out',\n",
              " 'on',\n",
              " 'off',\n",
              " 'over',\n",
              " 'under',\n",
              " 'again',\n",
              " 'further',\n",
              " 'then',\n",
              " 'once',\n",
              " 'here',\n",
              " 'there',\n",
              " 'when',\n",
              " 'where',\n",
              " 'why',\n",
              " 'how',\n",
              " 'all',\n",
              " 'any',\n",
              " 'both',\n",
              " 'each',\n",
              " 'few',\n",
              " 'more',\n",
              " 'most',\n",
              " 'other',\n",
              " 'some',\n",
              " 'such',\n",
              " 'no',\n",
              " 'nor',\n",
              " 'not',\n",
              " 'only',\n",
              " 'own',\n",
              " 'same',\n",
              " 'so',\n",
              " 'than',\n",
              " 'too',\n",
              " 'very',\n",
              " 's',\n",
              " 't',\n",
              " 'can',\n",
              " 'will',\n",
              " 'just',\n",
              " 'don',\n",
              " \"don't\",\n",
              " 'should',\n",
              " \"should've\",\n",
              " 'now',\n",
              " 'd',\n",
              " 'll',\n",
              " 'm',\n",
              " 'o',\n",
              " 're',\n",
              " 've',\n",
              " 'y',\n",
              " 'ain',\n",
              " 'aren',\n",
              " \"aren't\",\n",
              " 'couldn',\n",
              " \"couldn't\",\n",
              " 'didn',\n",
              " \"didn't\",\n",
              " 'doesn',\n",
              " \"doesn't\",\n",
              " 'hadn',\n",
              " \"hadn't\",\n",
              " 'hasn',\n",
              " \"hasn't\",\n",
              " 'haven',\n",
              " \"haven't\",\n",
              " 'isn',\n",
              " \"isn't\",\n",
              " 'ma',\n",
              " 'mightn',\n",
              " \"mightn't\",\n",
              " 'mustn',\n",
              " \"mustn't\",\n",
              " 'needn',\n",
              " \"needn't\",\n",
              " 'shan',\n",
              " \"shan't\",\n",
              " 'shouldn',\n",
              " \"shouldn't\",\n",
              " 'wasn',\n",
              " \"wasn't\",\n",
              " 'weren',\n",
              " \"weren't\",\n",
              " 'won',\n",
              " \"won't\",\n",
              " 'wouldn',\n",
              " \"wouldn't\"]"
            ]
          },
          "metadata": {},
          "execution_count": 150
        }
      ]
    },
    {
      "cell_type": "markdown",
      "source": [
        "**Applying Stemming**"
      ],
      "metadata": {
        "id": "K5gFOde2tZFo"
      }
    },
    {
      "cell_type": "code",
      "source": [
        "for s in corpus_copy:\n",
        "  words = nltk.word_tokenize(s)\n",
        "  for word in words:\n",
        "    if word not in set(stopwords.words('english')):\n",
        "      print(stemmer.stem(word))"
      ],
      "metadata": {
        "colab": {
          "base_uri": "https://localhost:8080/"
        },
        "id": "eAC9l4dAr65w",
        "outputId": "70b6fa67-52af-494f-abf5-814c5a840d95"
      },
      "execution_count": 151,
      "outputs": [
        {
          "output_type": "stream",
          "name": "stdout",
          "text": [
            "develop\n",
            "vaccin\n",
            "fight\n",
            "sar\n",
            "cov\n",
            "excit\n",
            "news\n",
            "u\n",
            "understand\n",
            "mean\n",
            "beyond\n",
            "understand\n",
            "possibl\n",
            "barrier\n",
            "covid\n",
            "vaccin\n",
            "develop\n",
            "work\n",
            "covid\n",
            "vaccin\n",
            "know\n",
            "vaccin\n",
            "safe\n",
            "effect\n",
            "often\n",
            "need\n",
            "vaccin\n",
            "enough\n",
            "vaccin\n",
            "everyon\n",
            "dr\n",
            "deborah\n",
            "fuller\n",
            "vaccinologist\n",
            "professor\n",
            "microbiolog\n",
            "univers\n",
            "washington\n",
            "discu\n",
            "answer\n",
            "question\n",
            "dr\n",
            "fuller\n",
            "lab\n",
            "site\n",
            "develop\n",
            "vaccin\n",
            "candid\n",
            "sinc\n",
            "januari\n"
          ]
        }
      ]
    },
    {
      "cell_type": "markdown",
      "source": [
        "**Applying Lemmatization**"
      ],
      "metadata": {
        "id": "7St-MCiKtc4R"
      }
    },
    {
      "cell_type": "code",
      "source": [
        "c = []\n",
        "for s in corpus_copy:\n",
        "  words = nltk.word_tokenize(s)\n",
        "  for word in words:\n",
        "    if word not in set(stopwords.words(\"english\")):\n",
        "      c.append(word)\n",
        "      print(word)"
      ],
      "metadata": {
        "colab": {
          "base_uri": "https://localhost:8080/"
        },
        "id": "oS9UumotuFPU",
        "outputId": "da58af11-1a51-4742-c99c-e09b1311d3a3"
      },
      "execution_count": 152,
      "outputs": [
        {
          "output_type": "stream",
          "name": "stdout",
          "text": [
            "development\n",
            "vaccine\n",
            "fight\n",
            "sars\n",
            "cov\n",
            "exciting\n",
            "news\n",
            "u\n",
            "understand\n",
            "mean\n",
            "beyond\n",
            "understanding\n",
            "possible\n",
            "barrier\n",
            "covid\n",
            "vaccine\n",
            "developed\n",
            "work\n",
            "covid\n",
            "vaccine\n",
            "know\n",
            "vaccine\n",
            "safe\n",
            "effective\n",
            "often\n",
            "need\n",
            "vaccinated\n",
            "enough\n",
            "vaccine\n",
            "everyone\n",
            "dr\n",
            "deborah\n",
            "fuller\n",
            "vaccinologist\n",
            "professor\n",
            "microbiology\n",
            "university\n",
            "washington\n",
            "discus\n",
            "answer\n",
            "question\n",
            "dr\n",
            "fuller\n",
            "lab\n",
            "site\n",
            "development\n",
            "vaccine\n",
            "candidate\n",
            "since\n",
            "january\n"
          ]
        }
      ]
    },
    {
      "cell_type": "code",
      "source": [
        "c[0]"
      ],
      "metadata": {
        "colab": {
          "base_uri": "https://localhost:8080/",
          "height": 35
        },
        "id": "v7VoL9Wx0ueU",
        "outputId": "7c108465-5776-4d92-f14c-e1ce9343198f"
      },
      "execution_count": 153,
      "outputs": [
        {
          "output_type": "execute_result",
          "data": {
            "text/plain": [
              "'development'"
            ],
            "application/vnd.google.colaboratory.intrinsic+json": {
              "type": "string"
            }
          },
          "metadata": {},
          "execution_count": 153
        }
      ]
    },
    {
      "cell_type": "markdown",
      "source": [
        "## Step 3: Bag of Words"
      ],
      "metadata": {
        "id": "6M_zqGakz-BX"
      }
    },
    {
      "cell_type": "code",
      "source": [
        "from sklearn.feature_extraction.text  import CountVectorizer\n",
        "countVect = CountVectorizer(binary=True)"
      ],
      "metadata": {
        "id": "BGgsYq2c0MHT"
      },
      "execution_count": 154,
      "outputs": []
    },
    {
      "cell_type": "code",
      "source": [
        "x = countVect.fit_transform(corpus)"
      ],
      "metadata": {
        "id": "I53SgjKt0ZSj"
      },
      "execution_count": 155,
      "outputs": []
    },
    {
      "cell_type": "code",
      "source": [
        "countVect.vocabulary_"
      ],
      "metadata": {
        "colab": {
          "base_uri": "https://localhost:8080/"
        },
        "id": "WNpGyiCz08Cx",
        "outputId": "14dfa330-010c-4582-dd13-cc9035244120"
      },
      "execution_count": 156,
      "outputs": [
        {
          "output_type": "execute_result",
          "data": {
            "text/plain": [
              "{'answer': 0,\n",
              " 'barrier': 1,\n",
              " 'beyond': 2,\n",
              " 'candidate': 3,\n",
              " 'cov': 4,\n",
              " 'covid': 5,\n",
              " 'deborah': 6,\n",
              " 'developed': 7,\n",
              " 'development': 8,\n",
              " 'discus': 9,\n",
              " 'dr': 10,\n",
              " 'effective': 11,\n",
              " 'enough': 12,\n",
              " 'everyone': 13,\n",
              " 'exciting': 14,\n",
              " 'fight': 15,\n",
              " 'fuller': 16,\n",
              " 'january': 17,\n",
              " 'know': 18,\n",
              " 'lab': 19,\n",
              " 'mean': 20,\n",
              " 'microbiology': 21,\n",
              " 'need': 22,\n",
              " 'news': 23,\n",
              " 'often': 24,\n",
              " 'possible': 25,\n",
              " 'professor': 26,\n",
              " 'question': 27,\n",
              " 'safe': 28,\n",
              " 'sars': 29,\n",
              " 'since': 30,\n",
              " 'site': 31,\n",
              " 'understand': 32,\n",
              " 'understanding': 33,\n",
              " 'university': 34,\n",
              " 'vaccinated': 35,\n",
              " 'vaccine': 36,\n",
              " 'vaccinologist': 37,\n",
              " 'washington': 38,\n",
              " 'work': 39}"
            ]
          },
          "metadata": {},
          "execution_count": 156
        }
      ]
    },
    {
      "cell_type": "code",
      "source": [
        "corpus[0]"
      ],
      "metadata": {
        "colab": {
          "base_uri": "https://localhost:8080/",
          "height": 35
        },
        "id": "C-JZ-ZKf1cde",
        "outputId": "5741795f-dc81-4307-a5c2-e520f3a41cc2"
      },
      "execution_count": 157,
      "outputs": [
        {
          "output_type": "execute_result",
          "data": {
            "text/plain": [
              "'development vaccine fight sars cov exciting news u understand mean beyond understanding possible barrier covid'"
            ],
            "application/vnd.google.colaboratory.intrinsic+json": {
              "type": "string"
            }
          },
          "metadata": {},
          "execution_count": 157
        }
      ]
    },
    {
      "cell_type": "code",
      "source": [
        "x[0].toarray()"
      ],
      "metadata": {
        "colab": {
          "base_uri": "https://localhost:8080/"
        },
        "id": "dP9dyyWI105W",
        "outputId": "7df3373b-8812-42e0-81b9-a9c4d3208818"
      },
      "execution_count": 158,
      "outputs": [
        {
          "output_type": "execute_result",
          "data": {
            "text/plain": [
              "array([[0, 1, 1, 0, 1, 1, 0, 0, 1, 0, 0, 0, 0, 0, 1, 1, 0, 0, 0, 0, 1, 0,\n",
              "        0, 1, 0, 1, 0, 0, 0, 1, 0, 0, 1, 1, 0, 0, 1, 0, 0, 0]])"
            ]
          },
          "metadata": {},
          "execution_count": 158
        }
      ]
    }
  ]
}